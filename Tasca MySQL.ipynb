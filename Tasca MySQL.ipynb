{
 "cells": [
  {
   "cell_type": "markdown",
   "metadata": {},
   "source": [
    "# Nivell 1\n",
    "#### Exercici 1\n",
    "Crea una base de dades relacionals senzilla utilitzant MySQL(https://www.mysql.com/) i connecta-la a Python"
   ]
  },
  {
   "cell_type": "code",
   "execution_count": 167,
   "metadata": {},
   "outputs": [],
   "source": [
    "import mysql.connector\n",
    "import pandas as pd\n",
    "import matplotlib.pyplot as plt\n",
    "import seaborn as sns"
   ]
  },
  {
   "cell_type": "code",
   "execution_count": 188,
   "metadata": {},
   "outputs": [],
   "source": [
    "#Conexión con MySQL, nos conectamos a la base de datos tienda\n",
    "mydb = mysql.connector.connect(\n",
    "  host=\"localhost\",\n",
    "  user=\"root\",\n",
    "  password=\"****\",\n",
    "  database='tienda'\n",
    ")"
   ]
  },
  {
   "cell_type": "code",
   "execution_count": 189,
   "metadata": {},
   "outputs": [],
   "source": [
    "mycursor = mydb.cursor()"
   ]
  },
  {
   "cell_type": "code",
   "execution_count": 190,
   "metadata": {},
   "outputs": [
    {
     "name": "stdout",
     "output_type": "stream",
     "text": [
      "('client',)\n",
      "('compra',)\n",
      "('compra_detall',)\n",
      "('establiment',)\n",
      "('producte',)\n",
      "('tipus_producte',)\n",
      "('treballador',)\n"
     ]
    }
   ],
   "source": [
    "#mostramos todas las tablas de la base de datos tienda\n",
    "mycursor.execute(\"SHOW TABLES\")\n",
    "for tabla in mycursor:\n",
    "  print(tabla)"
   ]
  },
  {
   "cell_type": "code",
   "execution_count": 191,
   "metadata": {},
   "outputs": [
    {
     "name": "stdout",
     "output_type": "stream",
     "text": [
      "(1, 'Chuck', 'Norris', '08080')\n",
      "(2, 'Michael', 'Douglas', '08907')\n",
      "(3, 'Luis', 'De Funes', '08802')\n",
      "(4, 'Peter', 'Sellers', '56237')\n",
      "(5, 'Alberto', 'Chicote', '08562')\n"
     ]
    }
   ],
   "source": [
    "#Hacemos una consulta sencilla para ver los datos de las tablas cliente,trabajador y establecimiento\n",
    "#Tenemos 5 clientes\n",
    "mycursor.execute(\"SELECT * FROM CLIENT\")\n",
    "for x in mycursor:\n",
    "  print(x)"
   ]
  },
  {
   "cell_type": "code",
   "execution_count": 192,
   "metadata": {},
   "outputs": [
    {
     "name": "stdout",
     "output_type": "stream",
     "text": [
      "(1, 'Pedro', 'Lopez', 'Comercial', 1)\n",
      "(2, 'Luis', 'Garcia', 'Comercial', 2)\n",
      "(3, 'Rafa', 'Nadal', 'Comercial', 3)\n"
     ]
    }
   ],
   "source": [
    "#Tenemos 3 comerciales\n",
    "mycursor.execute(\"SELECT * FROM TREBALLADOR\")\n",
    "for x in mycursor:\n",
    "  print(x)"
   ]
  },
  {
   "cell_type": "code",
   "execution_count": 193,
   "metadata": {},
   "outputs": [
    {
     "name": "stdout",
     "output_type": "stream",
     "text": [
      "(1, 'Condal', 'Barcelona', 100)\n",
      "(2, 'La Industrial', 'Girona', 150)\n",
      "(3, 'La Barata', 'Tarragona', 50)\n"
     ]
    }
   ],
   "source": [
    "#Tenemos 3 tiendas\n",
    "mycursor.execute(\"SELECT * FROM establiment\")\n",
    "for x in mycursor:\n",
    "  print(x)"
   ]
  },
  {
   "cell_type": "markdown",
   "metadata": {},
   "source": [
    "# Nivell 2\n",
    "#### Exercici 2\n",
    "Mostra que pots carregar algunes consultes senzilles a un Pandas Dataframe."
   ]
  },
  {
   "cell_type": "code",
   "execution_count": 194,
   "metadata": {},
   "outputs": [
    {
     "data": {
      "text/html": [
       "<div>\n",
       "<style scoped>\n",
       "    .dataframe tbody tr th:only-of-type {\n",
       "        vertical-align: middle;\n",
       "    }\n",
       "\n",
       "    .dataframe tbody tr th {\n",
       "        vertical-align: top;\n",
       "    }\n",
       "\n",
       "    .dataframe thead th {\n",
       "        text-align: right;\n",
       "    }\n",
       "</style>\n",
       "<table border=\"1\" class=\"dataframe\">\n",
       "  <thead>\n",
       "    <tr style=\"text-align: right;\">\n",
       "      <th></th>\n",
       "      <th>idProducte</th>\n",
       "      <th>Nom</th>\n",
       "      <th>TipusID</th>\n",
       "      <th>Quantitat</th>\n",
       "      <th>Preu_unitat</th>\n",
       "    </tr>\n",
       "  </thead>\n",
       "  <tbody>\n",
       "    <tr>\n",
       "      <td>0</td>\n",
       "      <td>1</td>\n",
       "      <td>Manzana</td>\n",
       "      <td>1</td>\n",
       "      <td>100</td>\n",
       "      <td>2.0</td>\n",
       "    </tr>\n",
       "    <tr>\n",
       "      <td>1</td>\n",
       "      <td>2</td>\n",
       "      <td>Pera</td>\n",
       "      <td>1</td>\n",
       "      <td>80</td>\n",
       "      <td>1.5</td>\n",
       "    </tr>\n",
       "    <tr>\n",
       "      <td>2</td>\n",
       "      <td>3</td>\n",
       "      <td>Vaso cristal</td>\n",
       "      <td>2</td>\n",
       "      <td>300</td>\n",
       "      <td>4.2</td>\n",
       "    </tr>\n",
       "    <tr>\n",
       "      <td>3</td>\n",
       "      <td>4</td>\n",
       "      <td>Plato ceramica</td>\n",
       "      <td>2</td>\n",
       "      <td>250</td>\n",
       "      <td>3.2</td>\n",
       "    </tr>\n",
       "    <tr>\n",
       "      <td>4</td>\n",
       "      <td>5</td>\n",
       "      <td>Pantalon vaquero</td>\n",
       "      <td>3</td>\n",
       "      <td>80</td>\n",
       "      <td>30.0</td>\n",
       "    </tr>\n",
       "    <tr>\n",
       "      <td>5</td>\n",
       "      <td>6</td>\n",
       "      <td>Camisa lisa</td>\n",
       "      <td>3</td>\n",
       "      <td>125</td>\n",
       "      <td>45.0</td>\n",
       "    </tr>\n",
       "    <tr>\n",
       "      <td>6</td>\n",
       "      <td>7</td>\n",
       "      <td>Libro Planeta</td>\n",
       "      <td>4</td>\n",
       "      <td>65</td>\n",
       "      <td>20.0</td>\n",
       "    </tr>\n",
       "    <tr>\n",
       "      <td>7</td>\n",
       "      <td>8</td>\n",
       "      <td>Pack DVD pelicula</td>\n",
       "      <td>4</td>\n",
       "      <td>70</td>\n",
       "      <td>55.0</td>\n",
       "    </tr>\n",
       "    <tr>\n",
       "      <td>8</td>\n",
       "      <td>9</td>\n",
       "      <td>Lejia 1L</td>\n",
       "      <td>5</td>\n",
       "      <td>260</td>\n",
       "      <td>10.0</td>\n",
       "    </tr>\n",
       "    <tr>\n",
       "      <td>9</td>\n",
       "      <td>10</td>\n",
       "      <td>Limpiacristales</td>\n",
       "      <td>5</td>\n",
       "      <td>120</td>\n",
       "      <td>6.5</td>\n",
       "    </tr>\n",
       "  </tbody>\n",
       "</table>\n",
       "</div>"
      ],
      "text/plain": [
       "   idProducte                Nom  TipusID  Quantitat  Preu_unitat\n",
       "0           1            Manzana        1        100          2.0\n",
       "1           2               Pera        1         80          1.5\n",
       "2           3       Vaso cristal        2        300          4.2\n",
       "3           4     Plato ceramica        2        250          3.2\n",
       "4           5   Pantalon vaquero        3         80         30.0\n",
       "5           6        Camisa lisa        3        125         45.0\n",
       "6           7      Libro Planeta        4         65         20.0\n",
       "7           8  Pack DVD pelicula        4         70         55.0\n",
       "8           9           Lejia 1L        5        260         10.0\n",
       "9          10    Limpiacristales        5        120          6.5"
      ]
     },
     "execution_count": 194,
     "metadata": {},
     "output_type": "execute_result"
    }
   ],
   "source": [
    "#Cargamos toda la tabla producto\n",
    "producto= df=pd.read_sql(\"SELECT * from producte\",mydb)\n",
    "producto"
   ]
  },
  {
   "cell_type": "code",
   "execution_count": 195,
   "metadata": {},
   "outputs": [],
   "source": [
    "# Creamos un dataframe agrupando por cliente e indicando el gasto total y el número de compras por cliente\n",
    "df=pd.read_sql(\"SELECT b.nom NOM ,b.cognom COGNOM,sum(a.Total) GASTO,count(a.Total) COMPRAS \\\n",
    "from compra a \\\n",
    "join client b \\\n",
    "on a.ClientID=b.idClient \\\n",
    "group by b.Nom\",mydb)"
   ]
  },
  {
   "cell_type": "code",
   "execution_count": 196,
   "metadata": {},
   "outputs": [
    {
     "data": {
      "text/html": [
       "<div>\n",
       "<style scoped>\n",
       "    .dataframe tbody tr th:only-of-type {\n",
       "        vertical-align: middle;\n",
       "    }\n",
       "\n",
       "    .dataframe tbody tr th {\n",
       "        vertical-align: top;\n",
       "    }\n",
       "\n",
       "    .dataframe thead th {\n",
       "        text-align: right;\n",
       "    }\n",
       "</style>\n",
       "<table border=\"1\" class=\"dataframe\">\n",
       "  <thead>\n",
       "    <tr style=\"text-align: right;\">\n",
       "      <th></th>\n",
       "      <th>NOM</th>\n",
       "      <th>COGNOM</th>\n",
       "      <th>GASTO</th>\n",
       "      <th>COMPRAS</th>\n",
       "    </tr>\n",
       "  </thead>\n",
       "  <tbody>\n",
       "    <tr>\n",
       "      <td>0</td>\n",
       "      <td>Chuck</td>\n",
       "      <td>Norris</td>\n",
       "      <td>265.0</td>\n",
       "      <td>4</td>\n",
       "    </tr>\n",
       "    <tr>\n",
       "      <td>1</td>\n",
       "      <td>Michael</td>\n",
       "      <td>Douglas</td>\n",
       "      <td>205.0</td>\n",
       "      <td>3</td>\n",
       "    </tr>\n",
       "    <tr>\n",
       "      <td>2</td>\n",
       "      <td>Luis</td>\n",
       "      <td>De Funes</td>\n",
       "      <td>145.5</td>\n",
       "      <td>2</td>\n",
       "    </tr>\n",
       "    <tr>\n",
       "      <td>3</td>\n",
       "      <td>Peter</td>\n",
       "      <td>Sellers</td>\n",
       "      <td>113.5</td>\n",
       "      <td>2</td>\n",
       "    </tr>\n",
       "    <tr>\n",
       "      <td>4</td>\n",
       "      <td>Alberto</td>\n",
       "      <td>Chicote</td>\n",
       "      <td>219.0</td>\n",
       "      <td>2</td>\n",
       "    </tr>\n",
       "  </tbody>\n",
       "</table>\n",
       "</div>"
      ],
      "text/plain": [
       "       NOM    COGNOM  GASTO  COMPRAS\n",
       "0    Chuck    Norris  265.0        4\n",
       "1  Michael   Douglas  205.0        3\n",
       "2     Luis  De Funes  145.5        2\n",
       "3    Peter   Sellers  113.5        2\n",
       "4  Alberto   Chicote  219.0        2"
      ]
     },
     "execution_count": 196,
     "metadata": {},
     "output_type": "execute_result"
    }
   ],
   "source": [
    "df"
   ]
  },
  {
   "cell_type": "markdown",
   "metadata": {},
   "source": [
    "# Nivell 3\n",
    "#### Exercici 3\n",
    "Genera algun gràfic que resumeixi les dades. "
   ]
  },
  {
   "cell_type": "code",
   "execution_count": 306,
   "metadata": {},
   "outputs": [],
   "source": [
    "# Creamos un dataframe con los datos más importantes del pedido\n",
    "pedidos=pd.read_sql(\"select a.fecha Fecha,concat(b.nom,' ',b.cognom) Cliente,\\\n",
    "                     d.nom Tienda, \\\n",
    "                     concat(c.nom,' ',c.cognom) Empleado, \\\n",
    "                     a.Total \\\n",
    "                     from compra a \\\n",
    "                     join client b \\\n",
    "                     on a.ClientID=b.idClient \\\n",
    "                     join treballador c \\\n",
    "                     on a.TreballadorID=c.idTreballador \\\n",
    "                     join establiment d \\\n",
    "                     on c.EstablimentID=d.idEstabliment\",mydb)"
   ]
  },
  {
   "cell_type": "code",
   "execution_count": 293,
   "metadata": {},
   "outputs": [],
   "source": [
    "#Creamos un dataframe con los productos más vendidos en orden descendente\n",
    "productos=pd.read_sql(\"select b.Nom, sum(a.Total) Total \\\n",
    "                        from compra_detall a \\\n",
    "                        join producte b \\\n",
    "                        on a.ProducteID=b.idProducte \\\n",
    "                        group by a.ProducteID \\\n",
    "                        order by Total desc\",mydb)"
   ]
  },
  {
   "cell_type": "code",
   "execution_count": 224,
   "metadata": {},
   "outputs": [
    {
     "data": {
      "text/html": [
       "<div>\n",
       "<style scoped>\n",
       "    .dataframe tbody tr th:only-of-type {\n",
       "        vertical-align: middle;\n",
       "    }\n",
       "\n",
       "    .dataframe tbody tr th {\n",
       "        vertical-align: top;\n",
       "    }\n",
       "\n",
       "    .dataframe thead th {\n",
       "        text-align: right;\n",
       "    }\n",
       "</style>\n",
       "<table border=\"1\" class=\"dataframe\">\n",
       "  <thead>\n",
       "    <tr style=\"text-align: right;\">\n",
       "      <th></th>\n",
       "      <th>Fecha</th>\n",
       "      <th>Cliente</th>\n",
       "      <th>Tienda</th>\n",
       "      <th>Empleado</th>\n",
       "      <th>Total</th>\n",
       "    </tr>\n",
       "  </thead>\n",
       "  <tbody>\n",
       "    <tr>\n",
       "      <td>0</td>\n",
       "      <td>2021-04-27</td>\n",
       "      <td>Chuck Norris</td>\n",
       "      <td>Condal</td>\n",
       "      <td>Pedro Lopez</td>\n",
       "      <td>70.0</td>\n",
       "    </tr>\n",
       "    <tr>\n",
       "      <td>1</td>\n",
       "      <td>2021-04-29</td>\n",
       "      <td>Luis De Funes</td>\n",
       "      <td>Condal</td>\n",
       "      <td>Pedro Lopez</td>\n",
       "      <td>65.5</td>\n",
       "    </tr>\n",
       "    <tr>\n",
       "      <td>2</td>\n",
       "      <td>2021-04-30</td>\n",
       "      <td>Peter Sellers</td>\n",
       "      <td>Condal</td>\n",
       "      <td>Pedro Lopez</td>\n",
       "      <td>28.0</td>\n",
       "    </tr>\n",
       "    <tr>\n",
       "      <td>3</td>\n",
       "      <td>2021-04-30</td>\n",
       "      <td>Chuck Norris</td>\n",
       "      <td>Condal</td>\n",
       "      <td>Pedro Lopez</td>\n",
       "      <td>85.0</td>\n",
       "    </tr>\n",
       "    <tr>\n",
       "      <td>4</td>\n",
       "      <td>2021-04-28</td>\n",
       "      <td>Chuck Norris</td>\n",
       "      <td>La Industrial</td>\n",
       "      <td>Luis Garcia</td>\n",
       "      <td>85.0</td>\n",
       "    </tr>\n",
       "    <tr>\n",
       "      <td>5</td>\n",
       "      <td>2021-04-28</td>\n",
       "      <td>Michael Douglas</td>\n",
       "      <td>La Industrial</td>\n",
       "      <td>Luis Garcia</td>\n",
       "      <td>25.0</td>\n",
       "    </tr>\n",
       "    <tr>\n",
       "      <td>6</td>\n",
       "      <td>2021-04-29</td>\n",
       "      <td>Michael Douglas</td>\n",
       "      <td>La Industrial</td>\n",
       "      <td>Luis Garcia</td>\n",
       "      <td>150.0</td>\n",
       "    </tr>\n",
       "    <tr>\n",
       "      <td>7</td>\n",
       "      <td>2021-04-26</td>\n",
       "      <td>Alberto Chicote</td>\n",
       "      <td>La Industrial</td>\n",
       "      <td>Luis Garcia</td>\n",
       "      <td>64.0</td>\n",
       "    </tr>\n",
       "    <tr>\n",
       "      <td>8</td>\n",
       "      <td>2021-04-30</td>\n",
       "      <td>Alberto Chicote</td>\n",
       "      <td>La Industrial</td>\n",
       "      <td>Luis Garcia</td>\n",
       "      <td>155.0</td>\n",
       "    </tr>\n",
       "    <tr>\n",
       "      <td>9</td>\n",
       "      <td>2021-04-29</td>\n",
       "      <td>Michael Douglas</td>\n",
       "      <td>La Industrial</td>\n",
       "      <td>Luis Garcia</td>\n",
       "      <td>30.0</td>\n",
       "    </tr>\n",
       "    <tr>\n",
       "      <td>10</td>\n",
       "      <td>2021-04-27</td>\n",
       "      <td>Luis De Funes</td>\n",
       "      <td>La Barata</td>\n",
       "      <td>Rafa Nadal</td>\n",
       "      <td>80.0</td>\n",
       "    </tr>\n",
       "    <tr>\n",
       "      <td>11</td>\n",
       "      <td>2021-04-30</td>\n",
       "      <td>Peter Sellers</td>\n",
       "      <td>La Barata</td>\n",
       "      <td>Rafa Nadal</td>\n",
       "      <td>85.5</td>\n",
       "    </tr>\n",
       "    <tr>\n",
       "      <td>12</td>\n",
       "      <td>2021-04-26</td>\n",
       "      <td>Chuck Norris</td>\n",
       "      <td>La Barata</td>\n",
       "      <td>Rafa Nadal</td>\n",
       "      <td>25.0</td>\n",
       "    </tr>\n",
       "  </tbody>\n",
       "</table>\n",
       "</div>"
      ],
      "text/plain": [
       "        Fecha          Cliente         Tienda     Empleado  Total\n",
       "0  2021-04-27     Chuck Norris         Condal  Pedro Lopez   70.0\n",
       "1  2021-04-29    Luis De Funes         Condal  Pedro Lopez   65.5\n",
       "2  2021-04-30    Peter Sellers         Condal  Pedro Lopez   28.0\n",
       "3  2021-04-30     Chuck Norris         Condal  Pedro Lopez   85.0\n",
       "4  2021-04-28     Chuck Norris  La Industrial  Luis Garcia   85.0\n",
       "5  2021-04-28  Michael Douglas  La Industrial  Luis Garcia   25.0\n",
       "6  2021-04-29  Michael Douglas  La Industrial  Luis Garcia  150.0\n",
       "7  2021-04-26  Alberto Chicote  La Industrial  Luis Garcia   64.0\n",
       "8  2021-04-30  Alberto Chicote  La Industrial  Luis Garcia  155.0\n",
       "9  2021-04-29  Michael Douglas  La Industrial  Luis Garcia   30.0\n",
       "10 2021-04-27    Luis De Funes      La Barata   Rafa Nadal   80.0\n",
       "11 2021-04-30    Peter Sellers      La Barata   Rafa Nadal   85.5\n",
       "12 2021-04-26     Chuck Norris      La Barata   Rafa Nadal   25.0"
      ]
     },
     "execution_count": 224,
     "metadata": {},
     "output_type": "execute_result"
    }
   ],
   "source": [
    "pedidos"
   ]
  },
  {
   "cell_type": "code",
   "execution_count": 235,
   "metadata": {},
   "outputs": [
    {
     "data": {
      "text/html": [
       "<div>\n",
       "<style scoped>\n",
       "    .dataframe tbody tr th:only-of-type {\n",
       "        vertical-align: middle;\n",
       "    }\n",
       "\n",
       "    .dataframe tbody tr th {\n",
       "        vertical-align: top;\n",
       "    }\n",
       "\n",
       "    .dataframe thead th {\n",
       "        text-align: right;\n",
       "    }\n",
       "</style>\n",
       "<table border=\"1\" class=\"dataframe\">\n",
       "  <thead>\n",
       "    <tr style=\"text-align: right;\">\n",
       "      <th></th>\n",
       "      <th>Nom</th>\n",
       "      <th>Total</th>\n",
       "    </tr>\n",
       "  </thead>\n",
       "  <tbody>\n",
       "    <tr>\n",
       "      <td>0</td>\n",
       "      <td>Pack DVD pelicula</td>\n",
       "      <td>275.0</td>\n",
       "    </tr>\n",
       "    <tr>\n",
       "      <td>1</td>\n",
       "      <td>Pantalon vaquero</td>\n",
       "      <td>180.0</td>\n",
       "    </tr>\n",
       "    <tr>\n",
       "      <td>2</td>\n",
       "      <td>Camisa lisa</td>\n",
       "      <td>135.0</td>\n",
       "    </tr>\n",
       "    <tr>\n",
       "      <td>3</td>\n",
       "      <td>Lejia 1L</td>\n",
       "      <td>100.0</td>\n",
       "    </tr>\n",
       "    <tr>\n",
       "      <td>4</td>\n",
       "      <td>Vaso cristal</td>\n",
       "      <td>63.0</td>\n",
       "    </tr>\n",
       "    <tr>\n",
       "      <td>5</td>\n",
       "      <td>Libro Planeta</td>\n",
       "      <td>60.0</td>\n",
       "    </tr>\n",
       "    <tr>\n",
       "      <td>6</td>\n",
       "      <td>Manzana</td>\n",
       "      <td>48.0</td>\n",
       "    </tr>\n",
       "    <tr>\n",
       "      <td>7</td>\n",
       "      <td>Limpiacristales</td>\n",
       "      <td>32.5</td>\n",
       "    </tr>\n",
       "    <tr>\n",
       "      <td>8</td>\n",
       "      <td>Plato ceramica</td>\n",
       "      <td>32.0</td>\n",
       "    </tr>\n",
       "    <tr>\n",
       "      <td>9</td>\n",
       "      <td>Pera</td>\n",
       "      <td>22.5</td>\n",
       "    </tr>\n",
       "  </tbody>\n",
       "</table>\n",
       "</div>"
      ],
      "text/plain": [
       "                 Nom  Total\n",
       "0  Pack DVD pelicula  275.0\n",
       "1   Pantalon vaquero  180.0\n",
       "2        Camisa lisa  135.0\n",
       "3           Lejia 1L  100.0\n",
       "4       Vaso cristal   63.0\n",
       "5      Libro Planeta   60.0\n",
       "6            Manzana   48.0\n",
       "7    Limpiacristales   32.5\n",
       "8     Plato ceramica   32.0\n",
       "9               Pera   22.5"
      ]
     },
     "execution_count": 235,
     "metadata": {},
     "output_type": "execute_result"
    }
   ],
   "source": [
    "productos"
   ]
  },
  {
   "cell_type": "code",
   "execution_count": 308,
   "metadata": {},
   "outputs": [
    {
     "data": {
      "text/html": [
       "<div>\n",
       "<style scoped>\n",
       "    .dataframe tbody tr th:only-of-type {\n",
       "        vertical-align: middle;\n",
       "    }\n",
       "\n",
       "    .dataframe tbody tr th {\n",
       "        vertical-align: top;\n",
       "    }\n",
       "\n",
       "    .dataframe thead th {\n",
       "        text-align: right;\n",
       "    }\n",
       "</style>\n",
       "<table border=\"1\" class=\"dataframe\">\n",
       "  <thead>\n",
       "    <tr style=\"text-align: right;\">\n",
       "      <th></th>\n",
       "      <th>Fecha</th>\n",
       "      <th>Total</th>\n",
       "    </tr>\n",
       "  </thead>\n",
       "  <tbody>\n",
       "    <tr>\n",
       "      <td>0</td>\n",
       "      <td>26</td>\n",
       "      <td>89.0</td>\n",
       "    </tr>\n",
       "    <tr>\n",
       "      <td>1</td>\n",
       "      <td>27</td>\n",
       "      <td>150.0</td>\n",
       "    </tr>\n",
       "    <tr>\n",
       "      <td>2</td>\n",
       "      <td>28</td>\n",
       "      <td>110.0</td>\n",
       "    </tr>\n",
       "    <tr>\n",
       "      <td>3</td>\n",
       "      <td>29</td>\n",
       "      <td>245.5</td>\n",
       "    </tr>\n",
       "    <tr>\n",
       "      <td>4</td>\n",
       "      <td>30</td>\n",
       "      <td>353.5</td>\n",
       "    </tr>\n",
       "  </tbody>\n",
       "</table>\n",
       "</div>"
      ],
      "text/plain": [
       "  Fecha  Total\n",
       "0    26   89.0\n",
       "1    27  150.0\n",
       "2    28  110.0\n",
       "3    29  245.5\n",
       "4    30  353.5"
      ]
     },
     "execution_count": 308,
     "metadata": {},
     "output_type": "execute_result"
    }
   ],
   "source": [
    "from datetime import datetime\n",
    "ventas=pedidos.groupby('Fecha').sum()['Total'].reset_index()\n",
    "ventas.Fecha=ventas.Fecha.dt.day.astype('str')\n",
    "ventas"
   ]
  },
  {
   "cell_type": "code",
   "execution_count": 311,
   "metadata": {},
   "outputs": [
    {
     "data": {
      "image/png": "[encoded data removed]",
      "text/plain": [
       "<Figure size 1440x720 with 4 Axes>"
      ]
     },
     "metadata": {
      "needs_background": "light"
     },
     "output_type": "display_data"
    }
   ],
   "source": [
    "plt.figure(figsize=(20,10))\n",
    "plt.subplot(2,2,1)\n",
    "plt.plot(ventas.Fecha,ventas.Total)\n",
    "plt.title('Ventas diarias')\n",
    "plt.subplot(2,2,2)\n",
    "sns.barplot(x='Cliente',y='Total', data=pedidos)\n",
    "plt.title('Ventas por cliente')\n",
    "plt.subplot(2,2,3)\n",
    "sns.barplot(x='Tienda',y='Total',data=pedidos,hue='Cliente')\n",
    "plt.title('Ventas por tienda')\n",
    "plt.subplot(2,2,4)\n",
    "sns.barplot(x='Nom',y='Total', data=productos)\n",
    "plt.title('Productos más vendidos')\n",
    "plt.xticks(rotation=45)\n",
    "plt.suptitle('Informe ventas Abril 2021')\n",
    "plt.show()\n"
   ]
  },
  {
   "cell_type": "code",
   "execution_count": null,
   "metadata": {},
   "outputs": [],
   "source": []
  }
 ],
 "metadata": {
  "kernelspec": {
   "display_name": "Python 3",
   "language": "python",
   "name": "python3"
  },
  "language_info": {
   "codemirror_mode": {
    "name": "ipython",
    "version": 3
   },
   "file_extension": ".py",
   "mimetype": "text/x-python",
   "name": "python",
   "nbconvert_exporter": "python",
   "pygments_lexer": "ipython3",
   "version": "3.7.4"
  }
 },
 "nbformat": 4,
 "nbformat_minor": 2
}
